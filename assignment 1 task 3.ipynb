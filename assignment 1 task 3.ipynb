{
  "nbformat": 4,
  "nbformat_minor": 0,
  "metadata": {
    "colab": {
      "provenance": [],
      "toc_visible": true
    },
    "kernelspec": {
      "name": "python3",
      "display_name": "Python 3"
    },
    "language_info": {
      "name": "python"
    }
  },
  "cells": [
    {
      "cell_type": "code",
      "execution_count": null,
      "metadata": {
        "id": "Tcn8qPO83gSP",
        "colab": {
          "base_uri": "https://localhost:8080/"
        },
        "outputId": "bc9148dc-4e0c-4d22-f603-b0a2984dcd73"
      },
      "outputs": [
        {
          "output_type": "stream",
          "name": "stdout",
          "text": [
            "    pizza_id   pizza_name_id  Unnamed: 2 quantity pizza_name\n",
            "0          1      hawaiian_m           1        M    Classic\n",
            "1          2   classic_dlx_m           1        M    Classic\n",
            "2          3   five_cheese_l           1        L     Veggie\n",
            "3          4     ital_supr_l           1        L    Supreme\n",
            "4          5      mexicana_m           1        M     Veggie\n",
            "5          6      thai_ckn_l           1        L    Chicken\n",
            "6          7     ital_supr_m           1        M    Supreme\n",
            "7          8    prsc_argla_l           1        L    Supreme\n",
            "8          9     ital_supr_m           1        M    Supreme\n",
            "9         10     ital_supr_m           1        M    Supreme\n",
            "10        11       bbq_ckn_s           1        S    Chicken\n",
            "11        12     the_greek_s           1        S    Classic\n",
            "12        13  spinach_supr_s           1        S    Supreme\n",
            "13        14  spinach_supr_s           1        S    Supreme\n",
            "14        15   classic_dlx_s           1        S    Classic\n",
            "15        16  green_garden_s           1        S     Veggie\n",
            "16        17   ital_cpcllo_l           1        L    Classic\n",
            "17        18     ital_supr_l           1        L    Supreme\n",
            "18        19     ital_supr_s           1        S    Supreme\n",
            "19        20      mexicana_s           1        S     Veggie\n",
            "20        21    spicy_ital_l           1        L    Supreme\n",
            "21        22    spin_pesto_l           1        L     Veggie\n",
            "22        23    veggie_veg_s           1        S     Veggie\n",
            "23        24      mexicana_l           1        L     Veggie\n"
          ]
        }
      ],
      "source": [
        "import pandas as pd\n",
        "file_path = '/content/drive/MyDrive/dataset.csv'\n",
        "df_csv = pd.read_csv(file_path)\n",
        "print(df_csv)\n"
      ]
    },
    {
      "cell_type": "code",
      "source": [
        "\n",
        "fp = '/content/drive/MyDrive/dataset1.xlsx'\n",
        "df_excel = pd.read_excel(fp)\n",
        "print(df_excel)\n"
      ],
      "metadata": {
        "id": "4mJ50HUe5yM9",
        "colab": {
          "base_uri": "https://localhost:8080/"
        },
        "outputId": "f6c0fe0c-afbb-4ddf-ca6e-ab28b122536a"
      },
      "execution_count": null,
      "outputs": [
        {
          "output_type": "stream",
          "name": "stdout",
          "text": [
            "    pizza_id   pizza_name_id  Unnamed: 2 quantity pizza_name\n",
            "0          1      hawaiian_m           1        M    Classic\n",
            "1          2   classic_dlx_m           1        M    Classic\n",
            "2          3   five_cheese_l           1        L     Veggie\n",
            "3          4     ital_supr_l           1        L    Supreme\n",
            "4          5      mexicana_m           1        M     Veggie\n",
            "5          6      thai_ckn_l           1        L    Chicken\n",
            "6          7     ital_supr_m           1        M    Supreme\n",
            "7          8    prsc_argla_l           1        L    Supreme\n",
            "8          9     ital_supr_m           1        M    Supreme\n",
            "9         10     ital_supr_m           1        M    Supreme\n",
            "10        11       bbq_ckn_s           1        S    Chicken\n",
            "11        12     the_greek_s           1        S    Classic\n",
            "12        13  spinach_supr_s           1        S    Supreme\n",
            "13        14  spinach_supr_s           1        S    Supreme\n",
            "14        15   classic_dlx_s           1        S    Classic\n",
            "15        16  green_garden_s           1        S     Veggie\n",
            "16        17   ital_cpcllo_l           1        L    Classic\n",
            "17        18     ital_supr_l           1        L    Supreme\n",
            "18        19     ital_supr_s           1        S    Supreme\n",
            "19        20      mexicana_s           1        S     Veggie\n",
            "20        21    spicy_ital_l           1        L    Supreme\n",
            "21        22    spin_pesto_l           1        L     Veggie\n",
            "22        23    veggie_veg_s           1        S     Veggie\n",
            "23        24      mexicana_l           1        L     Veggie\n"
          ]
        }
      ]
    },
    {
      "cell_type": "code",
      "source": [
        "\n",
        "tsv_file_path = '/content/drive/MyDrive/dataset3.tsv'\n",
        "df_tsv = pd.read_csv(tsv_file_path)\n",
        "print(df_tsv)\n"
      ],
      "metadata": {
        "colab": {
          "base_uri": "https://localhost:8080/"
        },
        "id": "hDCPyTCJ_bUk",
        "outputId": "86d0c4b0-0496-4ca1-e84b-a0c5b8847af2"
      },
      "execution_count": 9,
      "outputs": [
        {
          "output_type": "stream",
          "name": "stdout",
          "text": [
            "      pizza_id   pizza_name_id  Unnamed: 2 quantity pizza_name\n",
            "0   0          1      hawaiian_m           1      ...         \n",
            "1   1          2   classic_dlx_m           1      ...         \n",
            "2   2          3   five_cheese_l           1      ...         \n",
            "3   3          4     ital_supr_l           1      ...         \n",
            "4   4          5      mexicana_m           1      ...         \n",
            "5   5          6      thai_ckn_l           1      ...         \n",
            "6   6          7     ital_supr_m           1      ...         \n",
            "7   7          8    prsc_argla_l           1      ...         \n",
            "8   8          9     ital_supr_m           1      ...         \n",
            "9   9         10     ital_supr_m           1      ...         \n",
            "10  10        11       bbq_ckn_s           1      ...         \n",
            "11  11        12     the_greek_s           1      ...         \n",
            "12  12        13  spinach_supr_s           1      ...         \n",
            "13  13        14  spinach_supr_s           1      ...         \n",
            "14  14        15   classic_dlx_s           1      ...         \n",
            "15  15        16  green_garden_s           1      ...         \n",
            "16  16        17   ital_cpcllo_l           1      ...         \n",
            "17  17        18     ital_supr_l           1      ...         \n",
            "18  18        19     ital_supr_s           1      ...         \n",
            "19  19        20      mexicana_s           1      ...         \n",
            "20  20        21    spicy_ital_l           1      ...         \n",
            "21  21        22    spin_pesto_l           1      ...         \n",
            "22  22        23    veggie_veg_s           1      ...         \n",
            "23  23        24      mexicana_l           1      ...         \n"
          ]
        }
      ]
    }
  ]
}